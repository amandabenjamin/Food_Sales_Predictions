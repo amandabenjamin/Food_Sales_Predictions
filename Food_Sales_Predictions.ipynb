{
  "nbformat": 4,
  "nbformat_minor": 0,
  "metadata": {
    "colab": {
      "name": "Food_Sales_Predictions.ipynb",
      "provenance": [],
      "collapsed_sections": [],
      "authorship_tag": "ABX9TyNaazZGwoGw8dwKR3dVtEzt",
      "include_colab_link": true
    },
    "kernelspec": {
      "name": "python3",
      "display_name": "Python 3"
    },
    "language_info": {
      "name": "python"
    }
  },
  "cells": [
    {
      "cell_type": "markdown",
      "metadata": {
        "id": "view-in-github",
        "colab_type": "text"
      },
      "source": [
        "<a href=\"https://colab.research.google.com/github/amandabenjamin/Food_Sales_Predictions/blob/main/Food_Sales_Predictions.ipynb\" target=\"_parent\"><img src=\"https://colab.research.google.com/assets/colab-badge.svg\" alt=\"Open In Colab\"/></a>"
      ]
    },
    {
      "cell_type": "markdown",
      "source": [
        "Amanda Benjamin"
      ],
      "metadata": {
        "id": "ql_OQELrGxBC"
      }
    },
    {
      "cell_type": "markdown",
      "source": [
        "Project 1: Sales prediction for food items sold at various stores."
      ],
      "metadata": {
        "id": "FKyQAMEkG0PB"
      }
    },
    {
      "cell_type": "markdown",
      "source": [
        "# Project 1, Part 1\n",
        "\n",
        "*   Goal: Learning how to read in data \n",
        "\n"
      ],
      "metadata": {
        "id": "qorumBU_Iw3M"
      }
    },
    {
      "cell_type": "code",
      "execution_count": null,
      "metadata": {
        "id": "LDMOiv_uOoJu"
      },
      "outputs": [],
      "source": [
        "#project 1, part 1\n",
        "\n",
        "from google.colab import drive #accessing drive (and data) from google colab\n",
        "drive.mount('/content/drive')\n",
        "\n",
        "#import pandas libary \n",
        "import pandas as pd\n",
        "\n",
        "#assign data location to variable named 'filename'\n",
        "filename = '/content/drive/MyDrive/Coding Dojo/02 Week 2: Pandas for Data Science/sales_predictions.csv' \n",
        "\n",
        "df = pd.read_csv(filename)#import the data into dataframe (df)\n",
        "df.head() #take a look at the dataframe"
      ]
    },
    {
      "cell_type": "markdown",
      "source": [
        "# Project 1, Part 2\n",
        "\n",
        "*   Learning how to 'clean up' data \n",
        "*   Learning how to commit to Git Hub Repo. \n",
        "\n",
        "\n"
      ],
      "metadata": {
        "id": "hfcKRuy7I9Z2"
      }
    },
    {
      "cell_type": "code",
      "source": [
        "#project 1, part 2\n",
        "\n",
        "df.info() #print information about information about dataframe (df) including the index dtype and columns, non-null values"
      ],
      "metadata": {
        "id": "4cPFobnEFwRD",
        "colab": {
          "base_uri": "https://localhost:8080/"
        },
        "outputId": "54ef7d1c-ee3c-49f8-d6dc-1a7c35d82ac7"
      },
      "execution_count": 3,
      "outputs": [
        {
          "output_type": "stream",
          "name": "stdout",
          "text": [
            "<class 'pandas.core.frame.DataFrame'>\n",
            "RangeIndex: 8523 entries, 0 to 8522\n",
            "Data columns (total 12 columns):\n",
            " #   Column                     Non-Null Count  Dtype  \n",
            "---  ------                     --------------  -----  \n",
            " 0   Item_Identifier            8523 non-null   object \n",
            " 1   Item_Weight                7060 non-null   float64\n",
            " 2   Item_Fat_Content           8523 non-null   object \n",
            " 3   Item_Visibility            8523 non-null   float64\n",
            " 4   Item_Type                  8523 non-null   object \n",
            " 5   Item_MRP                   8523 non-null   float64\n",
            " 6   Outlet_Identifier          8523 non-null   object \n",
            " 7   Outlet_Establishment_Year  8523 non-null   int64  \n",
            " 8   Outlet_Size                6113 non-null   object \n",
            " 9   Outlet_Location_Type       8523 non-null   object \n",
            " 10  Outlet_Type                8523 non-null   object \n",
            " 11  Item_Outlet_Sales          8523 non-null   float64\n",
            "dtypes: float64(4), int64(1), object(7)\n",
            "memory usage: 799.2+ KB\n"
          ]
        }
      ]
    },
    {
      "cell_type": "markdown",
      "source": [
        "NOTE: There is missing data in Item_Weight and Outlet_Size!\n",
        "\n",
        "\n",
        "*   Columns include int, float, and object data"
      ],
      "metadata": {
        "id": "oSiYk1PPJWoE"
      }
    },
    {
      "cell_type": "markdown",
      "source": [
        "**1) How many rows and columns?**"
      ],
      "metadata": {
        "id": "ABcBNJ7eHv8Q"
      }
    },
    {
      "cell_type": "code",
      "source": [
        "count_row = df.shape[0]  # gives number of row count\n",
        "count_col = df.shape[1]  # gives number of col count\n",
        "\n",
        "print(f'There are {count_row} rows and {count_col} columns')"
      ],
      "metadata": {
        "id": "VxBW1uMgJ12i",
        "colab": {
          "base_uri": "https://localhost:8080/"
        },
        "outputId": "3d7c564b-3cdb-4a26-9c34-637a5f825411"
      },
      "execution_count": 4,
      "outputs": [
        {
          "output_type": "stream",
          "name": "stdout",
          "text": [
            "There are 8523 rows and 12 columns\n"
          ]
        }
      ]
    },
    {
      "cell_type": "markdown",
      "source": [
        "**2) What are the datatypes of each variable?**"
      ],
      "metadata": {
        "id": "GU-ES1raH3qH"
      }
    },
    {
      "cell_type": "code",
      "source": [
        "for i in df:\n",
        "    print(f'{i} is a/an {df.dtypes[i]}') #print column name and its dtype "
      ],
      "metadata": {
        "id": "ypEnoiYOOv-f",
        "colab": {
          "base_uri": "https://localhost:8080/"
        },
        "outputId": "315ba815-cfff-478a-92a1-ad95f3dbf1d7"
      },
      "execution_count": 5,
      "outputs": [
        {
          "output_type": "stream",
          "name": "stdout",
          "text": [
            "Item_Identifier is a/an object\n",
            "Item_Weight is a/an float64\n",
            "Item_Fat_Content is a/an object\n",
            "Item_Visibility is a/an float64\n",
            "Item_Type is a/an object\n",
            "Item_MRP is a/an float64\n",
            "Outlet_Identifier is a/an object\n",
            "Outlet_Establishment_Year is a/an int64\n",
            "Outlet_Size is a/an object\n",
            "Outlet_Location_Type is a/an object\n",
            "Outlet_Type is a/an object\n",
            "Item_Outlet_Sales is a/an float64\n"
          ]
        }
      ]
    },
    {
      "cell_type": "markdown",
      "source": [
        "**3) Are there duplicates? If so, drop any duplicates.**"
      ],
      "metadata": {
        "id": "ceFa7Tc8ICJM"
      }
    },
    {
      "cell_type": "code",
      "source": [
        "#If there are duplicates, we can use sum to see how many \n",
        "#b/c True boolian adds just like 1\n",
        "df.duplicated(keep=False).sum() \n",
        "\n",
        "if df.duplicated(keep=False).sum() > 0: #if the sum of duplicates is greater than 0\n",
        "  print('Looks like there are duplicates!') #print\n",
        "else: #if not \n",
        "  print(f'No duplicates here - The sum of all duplicated values equals {df.duplicated(keep=False).sum()}') #print\n",
        "\n",
        "#we can also check our work by counting the number of non-duplicates \n",
        "#which should equal row number\n",
        "(~df.duplicated()).sum()\n",
        "\n",
        "if (~df.duplicated()).sum() == count_row: #if the sum of all duplicates equals the number of rows\n",
        "  print('Yup, still no duplicates when double checking!') #print\n",
        "else: #if not \n",
        "  print(f'This is not good') #print"
      ],
      "metadata": {
        "id": "K5UM9iosIWbP",
        "colab": {
          "base_uri": "https://localhost:8080/"
        },
        "outputId": "2edb05ec-6f32-4655-aedb-02b882d0dbea"
      },
      "execution_count": 6,
      "outputs": [
        {
          "output_type": "stream",
          "name": "stdout",
          "text": [
            "No duplicates here - The sum of all duplicated values equals 0\n",
            "Yup, still no duplicates when double checking!\n"
          ]
        }
      ]
    },
    {
      "cell_type": "markdown",
      "source": [
        "**4)  Identify missing values.**"
      ],
      "metadata": {
        "id": "bjZSam4wIKJD"
      }
    },
    {
      "cell_type": "code",
      "source": [
        "#df.info will tell you where there are missing data \n",
        "#anything under 8523 non-null means that there is missing data \n",
        "df.info()\n",
        "#Item_Weight and Outlet_Size contain missing values"
      ],
      "metadata": {
        "id": "6Y0G9IG6SJlu",
        "colab": {
          "base_uri": "https://localhost:8080/"
        },
        "outputId": "2bd826e5-fa3c-47fd-a6b5-bb8066f00668"
      },
      "execution_count": 7,
      "outputs": [
        {
          "output_type": "stream",
          "name": "stdout",
          "text": [
            "<class 'pandas.core.frame.DataFrame'>\n",
            "RangeIndex: 8523 entries, 0 to 8522\n",
            "Data columns (total 12 columns):\n",
            " #   Column                     Non-Null Count  Dtype  \n",
            "---  ------                     --------------  -----  \n",
            " 0   Item_Identifier            8523 non-null   object \n",
            " 1   Item_Weight                7060 non-null   float64\n",
            " 2   Item_Fat_Content           8523 non-null   object \n",
            " 3   Item_Visibility            8523 non-null   float64\n",
            " 4   Item_Type                  8523 non-null   object \n",
            " 5   Item_MRP                   8523 non-null   float64\n",
            " 6   Outlet_Identifier          8523 non-null   object \n",
            " 7   Outlet_Establishment_Year  8523 non-null   int64  \n",
            " 8   Outlet_Size                6113 non-null   object \n",
            " 9   Outlet_Location_Type       8523 non-null   object \n",
            " 10  Outlet_Type                8523 non-null   object \n",
            " 11  Item_Outlet_Sales          8523 non-null   float64\n",
            "dtypes: float64(4), int64(1), object(7)\n",
            "memory usage: 799.2+ KB\n"
          ]
        }
      ]
    },
    {
      "cell_type": "code",
      "source": [
        "# to find the exact location we can also try\n",
        "IW_missing_loc = df.loc[df['Item_Weight'].isna(),:] # Looks at the rows that contain NaN for Item_Weight\n",
        "OS_missing_loc = df.loc[df['Outlet_Size'].isna(),:] # Looks at the rows that contain NaN for outlet size"
      ],
      "metadata": {
        "id": "myVfaan32t1p"
      },
      "execution_count": 8,
      "outputs": []
    },
    {
      "cell_type": "code",
      "source": [
        "IW_missing_loc #run to display locations"
      ],
      "metadata": {
        "id": "LjSScMBn3xyC"
      },
      "execution_count": null,
      "outputs": []
    },
    {
      "cell_type": "code",
      "source": [
        "OS_missing_loc #run to display locations"
      ],
      "metadata": {
        "id": "VK6ez49r-IFz"
      },
      "execution_count": null,
      "outputs": []
    },
    {
      "cell_type": "markdown",
      "source": [
        "**5) Decide on how to address the missing values and do it! (This requires your judgement, so explain your choice).**"
      ],
      "metadata": {
        "id": "o4fGUZc3IOlU"
      }
    },
    {
      "cell_type": "markdown",
      "source": [
        "I already will rule out droping data - mostly becasue I will be droping more than 5% of my data (too many rows between the two columns of missing data) ... which is not good data science practice "
      ],
      "metadata": {
        "id": "77NcwgMdAzFE"
      }
    },
    {
      "cell_type": "code",
      "source": [
        "#lets take a look at Item_Weight \n",
        "\n",
        "#df['Item_Weight'].value_counts(normalize=True)#I'm not a fan of this output for floats. ...\n",
        "\n",
        "df.groupby('Item_Weight').sum() #group the df by Item weight values \n",
        "#Item_Weight is a float that ranges from 4.555 to 21.350"
      ],
      "metadata": {
        "id": "ZDxbCA9N83tP",
        "colab": {
          "base_uri": "https://localhost:8080/",
          "height": 455
        },
        "outputId": "0f65a083-25e1-49a1-c3a8-71a78e815f2b"
      },
      "execution_count": 11,
      "outputs": [
        {
          "output_type": "execute_result",
          "data": {
            "text/html": [
              "\n",
              "  <div id=\"df-6a2fa17b-3011-430f-89fc-70c50e6bafe9\">\n",
              "    <div class=\"colab-df-container\">\n",
              "      <div>\n",
              "<style scoped>\n",
              "    .dataframe tbody tr th:only-of-type {\n",
              "        vertical-align: middle;\n",
              "    }\n",
              "\n",
              "    .dataframe tbody tr th {\n",
              "        vertical-align: top;\n",
              "    }\n",
              "\n",
              "    .dataframe thead th {\n",
              "        text-align: right;\n",
              "    }\n",
              "</style>\n",
              "<table border=\"1\" class=\"dataframe\">\n",
              "  <thead>\n",
              "    <tr style=\"text-align: right;\">\n",
              "      <th></th>\n",
              "      <th>Item_Visibility</th>\n",
              "      <th>Item_MRP</th>\n",
              "      <th>Outlet_Establishment_Year</th>\n",
              "      <th>Item_Outlet_Sales</th>\n",
              "    </tr>\n",
              "    <tr>\n",
              "      <th>Item_Weight</th>\n",
              "      <th></th>\n",
              "      <th></th>\n",
              "      <th></th>\n",
              "      <th></th>\n",
              "    </tr>\n",
              "  </thead>\n",
              "  <tbody>\n",
              "    <tr>\n",
              "      <th>4.555</th>\n",
              "      <td>0.137447</td>\n",
              "      <td>446.9176</td>\n",
              "      <td>7987</td>\n",
              "      <td>7046.8272</td>\n",
              "    </tr>\n",
              "    <tr>\n",
              "      <th>4.590</th>\n",
              "      <td>0.283160</td>\n",
              "      <td>562.7300</td>\n",
              "      <td>9989</td>\n",
              "      <td>6338.4160</td>\n",
              "    </tr>\n",
              "    <tr>\n",
              "      <th>4.610</th>\n",
              "      <td>0.820166</td>\n",
              "      <td>1216.7772</td>\n",
              "      <td>14016</td>\n",
              "      <td>13955.1680</td>\n",
              "    </tr>\n",
              "    <tr>\n",
              "      <th>4.615</th>\n",
              "      <td>0.408006</td>\n",
              "      <td>929.8200</td>\n",
              "      <td>8000</td>\n",
              "      <td>16312.1000</td>\n",
              "    </tr>\n",
              "    <tr>\n",
              "      <th>4.635</th>\n",
              "      <td>0.705721</td>\n",
              "      <td>635.9970</td>\n",
              "      <td>10009</td>\n",
              "      <td>10922.4490</td>\n",
              "    </tr>\n",
              "    <tr>\n",
              "      <th>...</th>\n",
              "      <td>...</td>\n",
              "      <td>...</td>\n",
              "      <td>...</td>\n",
              "      <td>...</td>\n",
              "    </tr>\n",
              "    <tr>\n",
              "      <th>21.000</th>\n",
              "      <td>0.329558</td>\n",
              "      <td>1163.5868</td>\n",
              "      <td>12004</td>\n",
              "      <td>7168.6686</td>\n",
              "    </tr>\n",
              "    <tr>\n",
              "      <th>21.100</th>\n",
              "      <td>0.907614</td>\n",
              "      <td>2433.4410</td>\n",
              "      <td>34015</td>\n",
              "      <td>31475.0292</td>\n",
              "    </tr>\n",
              "    <tr>\n",
              "      <th>21.200</th>\n",
              "      <td>0.203484</td>\n",
              "      <td>872.8954</td>\n",
              "      <td>10010</td>\n",
              "      <td>13818.6790</td>\n",
              "    </tr>\n",
              "    <tr>\n",
              "      <th>21.250</th>\n",
              "      <td>1.271683</td>\n",
              "      <td>3961.5074</td>\n",
              "      <td>48059</td>\n",
              "      <td>52780.6292</td>\n",
              "    </tr>\n",
              "    <tr>\n",
              "      <th>21.350</th>\n",
              "      <td>0.598883</td>\n",
              "      <td>1487.7578</td>\n",
              "      <td>14002</td>\n",
              "      <td>23740.4306</td>\n",
              "    </tr>\n",
              "  </tbody>\n",
              "</table>\n",
              "<p>415 rows × 4 columns</p>\n",
              "</div>\n",
              "      <button class=\"colab-df-convert\" onclick=\"convertToInteractive('df-6a2fa17b-3011-430f-89fc-70c50e6bafe9')\"\n",
              "              title=\"Convert this dataframe to an interactive table.\"\n",
              "              style=\"display:none;\">\n",
              "        \n",
              "  <svg xmlns=\"http://www.w3.org/2000/svg\" height=\"24px\"viewBox=\"0 0 24 24\"\n",
              "       width=\"24px\">\n",
              "    <path d=\"M0 0h24v24H0V0z\" fill=\"none\"/>\n",
              "    <path d=\"M18.56 5.44l.94 2.06.94-2.06 2.06-.94-2.06-.94-.94-2.06-.94 2.06-2.06.94zm-11 1L8.5 8.5l.94-2.06 2.06-.94-2.06-.94L8.5 2.5l-.94 2.06-2.06.94zm10 10l.94 2.06.94-2.06 2.06-.94-2.06-.94-.94-2.06-.94 2.06-2.06.94z\"/><path d=\"M17.41 7.96l-1.37-1.37c-.4-.4-.92-.59-1.43-.59-.52 0-1.04.2-1.43.59L10.3 9.45l-7.72 7.72c-.78.78-.78 2.05 0 2.83L4 21.41c.39.39.9.59 1.41.59.51 0 1.02-.2 1.41-.59l7.78-7.78 2.81-2.81c.8-.78.8-2.07 0-2.86zM5.41 20L4 18.59l7.72-7.72 1.47 1.35L5.41 20z\"/>\n",
              "  </svg>\n",
              "      </button>\n",
              "      \n",
              "  <style>\n",
              "    .colab-df-container {\n",
              "      display:flex;\n",
              "      flex-wrap:wrap;\n",
              "      gap: 12px;\n",
              "    }\n",
              "\n",
              "    .colab-df-convert {\n",
              "      background-color: #E8F0FE;\n",
              "      border: none;\n",
              "      border-radius: 50%;\n",
              "      cursor: pointer;\n",
              "      display: none;\n",
              "      fill: #1967D2;\n",
              "      height: 32px;\n",
              "      padding: 0 0 0 0;\n",
              "      width: 32px;\n",
              "    }\n",
              "\n",
              "    .colab-df-convert:hover {\n",
              "      background-color: #E2EBFA;\n",
              "      box-shadow: 0px 1px 2px rgba(60, 64, 67, 0.3), 0px 1px 3px 1px rgba(60, 64, 67, 0.15);\n",
              "      fill: #174EA6;\n",
              "    }\n",
              "\n",
              "    [theme=dark] .colab-df-convert {\n",
              "      background-color: #3B4455;\n",
              "      fill: #D2E3FC;\n",
              "    }\n",
              "\n",
              "    [theme=dark] .colab-df-convert:hover {\n",
              "      background-color: #434B5C;\n",
              "      box-shadow: 0px 1px 3px 1px rgba(0, 0, 0, 0.15);\n",
              "      filter: drop-shadow(0px 1px 2px rgba(0, 0, 0, 0.3));\n",
              "      fill: #FFFFFF;\n",
              "    }\n",
              "  </style>\n",
              "\n",
              "      <script>\n",
              "        const buttonEl =\n",
              "          document.querySelector('#df-6a2fa17b-3011-430f-89fc-70c50e6bafe9 button.colab-df-convert');\n",
              "        buttonEl.style.display =\n",
              "          google.colab.kernel.accessAllowed ? 'block' : 'none';\n",
              "\n",
              "        async function convertToInteractive(key) {\n",
              "          const element = document.querySelector('#df-6a2fa17b-3011-430f-89fc-70c50e6bafe9');\n",
              "          const dataTable =\n",
              "            await google.colab.kernel.invokeFunction('convertToInteractive',\n",
              "                                                     [key], {});\n",
              "          if (!dataTable) return;\n",
              "\n",
              "          const docLinkHtml = 'Like what you see? Visit the ' +\n",
              "            '<a target=\"_blank\" href=https://colab.research.google.com/notebooks/data_table.ipynb>data table notebook</a>'\n",
              "            + ' to learn more about interactive tables.';\n",
              "          element.innerHTML = '';\n",
              "          dataTable['output_type'] = 'display_data';\n",
              "          await google.colab.output.renderOutput(dataTable, element);\n",
              "          const docLink = document.createElement('div');\n",
              "          docLink.innerHTML = docLinkHtml;\n",
              "          element.appendChild(docLink);\n",
              "        }\n",
              "      </script>\n",
              "    </div>\n",
              "  </div>\n",
              "  "
            ],
            "text/plain": [
              "             Item_Visibility   Item_MRP  Outlet_Establishment_Year  \\\n",
              "Item_Weight                                                          \n",
              "4.555               0.137447   446.9176                       7987   \n",
              "4.590               0.283160   562.7300                       9989   \n",
              "4.610               0.820166  1216.7772                      14016   \n",
              "4.615               0.408006   929.8200                       8000   \n",
              "4.635               0.705721   635.9970                      10009   \n",
              "...                      ...        ...                        ...   \n",
              "21.000              0.329558  1163.5868                      12004   \n",
              "21.100              0.907614  2433.4410                      34015   \n",
              "21.200              0.203484   872.8954                      10010   \n",
              "21.250              1.271683  3961.5074                      48059   \n",
              "21.350              0.598883  1487.7578                      14002   \n",
              "\n",
              "             Item_Outlet_Sales  \n",
              "Item_Weight                     \n",
              "4.555                7046.8272  \n",
              "4.590                6338.4160  \n",
              "4.610               13955.1680  \n",
              "4.615               16312.1000  \n",
              "4.635               10922.4490  \n",
              "...                        ...  \n",
              "21.000               7168.6686  \n",
              "21.100              31475.0292  \n",
              "21.200              13818.6790  \n",
              "21.250              52780.6292  \n",
              "21.350              23740.4306  \n",
              "\n",
              "[415 rows x 4 columns]"
            ]
          },
          "metadata": {},
          "execution_count": 11
        }
      ]
    },
    {
      "cell_type": "markdown",
      "source": [
        "I think if we fill in the missing data with 0's we will end up not only presenting outliers but most importantly skewing the data - which we dont want to do if we are trying to understand what the data is telling us. \n",
        "\n",
        "I prefer to fill in the data using interpolation (estimating the value given known data), and there is a pandas funciton for this! "
      ],
      "metadata": {
        "id": "JFEQg4m2-nCi"
      }
    },
    {
      "cell_type": "code",
      "source": [
        " df['Item_Weight'] = df['Item_Weight'].interpolate(method='linear') #data appears to be increasing linerarly (based on output above), not exponetially - ect. \n",
        " #we will use a liner regression equ. to predict and replace missing values in this column. "
      ],
      "metadata": {
        "id": "0pk1vACn_TDS"
      },
      "execution_count": null,
      "outputs": []
    },
    {
      "cell_type": "code",
      "source": [
        "#check that it worked ...\n",
        "\n",
        "if df['Item_Weight'].isna().sum() == 0: #if the number of missing values in Item Weight column equals 0\n",
        "  print('Missing Data Fixed!') #print\n",
        "else: #if not \n",
        "  print(f'This is not good') #print"
      ],
      "metadata": {
        "id": "XGk86aQTFSPX"
      },
      "execution_count": null,
      "outputs": []
    },
    {
      "cell_type": "code",
      "source": [
        "#lets take a look at outlet size now\n",
        "df['Outlet_Size'].value_counts()#outlet_Size is ordinal ... High, Medium, Small "
      ],
      "metadata": {
        "id": "VIgW1W_R5jR9"
      },
      "execution_count": null,
      "outputs": []
    },
    {
      "cell_type": "code",
      "source": [
        "#Thought: outlet size might be impacted by another column (dependent relationship)\n",
        "#we can use that relationship to fill in missing outlet size based on that relatioship \n",
        "\n",
        "#check to see if there is a relationship using groupby method\n",
        "#make it into a dataframe in case there are more methods I want for analysis \n",
        "\n",
        "#comment out others to see grouping of one tmp option\n",
        "tmp = df.groupby('Item_Outlet_Sales')[['Outlet_Size']].sum() #group outlet size by Item Outlet Sales --> seems to be a pattern\n",
        "#tmp = df.groupby('Outlet_Type')[['Outlet_Size']].sum() #group outlet size by Outlet Type --> does not appear to be relationship\n",
        "#tmp = df.groupby('Outlet_Location_Type')[['Outlet_Size']].sum() #group outlet size by Outlet location type --> does not appear to be relationship\n",
        "tmp\n"
      ],
      "metadata": {
        "colab": {
          "base_uri": "https://localhost:8080/",
          "height": 455
        },
        "id": "3O53POJgKymL",
        "outputId": "a16f2c65-ba34-4803-ac70-b118d84fdae2"
      },
      "execution_count": 16,
      "outputs": [
        {
          "output_type": "execute_result",
          "data": {
            "text/html": [
              "\n",
              "  <div id=\"df-5cb552d4-f932-45d2-86eb-2655222cea16\">\n",
              "    <div class=\"colab-df-container\">\n",
              "      <div>\n",
              "<style scoped>\n",
              "    .dataframe tbody tr th:only-of-type {\n",
              "        vertical-align: middle;\n",
              "    }\n",
              "\n",
              "    .dataframe tbody tr th {\n",
              "        vertical-align: top;\n",
              "    }\n",
              "\n",
              "    .dataframe thead th {\n",
              "        text-align: right;\n",
              "    }\n",
              "</style>\n",
              "<table border=\"1\" class=\"dataframe\">\n",
              "  <thead>\n",
              "    <tr style=\"text-align: right;\">\n",
              "      <th></th>\n",
              "      <th>Outlet_Size</th>\n",
              "    </tr>\n",
              "    <tr>\n",
              "      <th>Item_Outlet_Sales</th>\n",
              "      <th></th>\n",
              "    </tr>\n",
              "  </thead>\n",
              "  <tbody>\n",
              "    <tr>\n",
              "      <th>33.2900</th>\n",
              "      <td>0</td>\n",
              "    </tr>\n",
              "    <tr>\n",
              "      <th>33.9558</th>\n",
              "      <td>Small</td>\n",
              "    </tr>\n",
              "    <tr>\n",
              "      <th>34.6216</th>\n",
              "      <td>Small</td>\n",
              "    </tr>\n",
              "    <tr>\n",
              "      <th>35.2874</th>\n",
              "      <td>0</td>\n",
              "    </tr>\n",
              "    <tr>\n",
              "      <th>36.6190</th>\n",
              "      <td>Small</td>\n",
              "    </tr>\n",
              "    <tr>\n",
              "      <th>...</th>\n",
              "      <td>...</td>\n",
              "    </tr>\n",
              "    <tr>\n",
              "      <th>10306.5840</th>\n",
              "      <td>Medium</td>\n",
              "    </tr>\n",
              "    <tr>\n",
              "      <th>10993.6896</th>\n",
              "      <td>Medium</td>\n",
              "    </tr>\n",
              "    <tr>\n",
              "      <th>11445.1020</th>\n",
              "      <td>Medium</td>\n",
              "    </tr>\n",
              "    <tr>\n",
              "      <th>12117.5600</th>\n",
              "      <td>Medium</td>\n",
              "    </tr>\n",
              "    <tr>\n",
              "      <th>13086.9648</th>\n",
              "      <td>Medium</td>\n",
              "    </tr>\n",
              "  </tbody>\n",
              "</table>\n",
              "<p>3493 rows × 1 columns</p>\n",
              "</div>\n",
              "      <button class=\"colab-df-convert\" onclick=\"convertToInteractive('df-5cb552d4-f932-45d2-86eb-2655222cea16')\"\n",
              "              title=\"Convert this dataframe to an interactive table.\"\n",
              "              style=\"display:none;\">\n",
              "        \n",
              "  <svg xmlns=\"http://www.w3.org/2000/svg\" height=\"24px\"viewBox=\"0 0 24 24\"\n",
              "       width=\"24px\">\n",
              "    <path d=\"M0 0h24v24H0V0z\" fill=\"none\"/>\n",
              "    <path d=\"M18.56 5.44l.94 2.06.94-2.06 2.06-.94-2.06-.94-.94-2.06-.94 2.06-2.06.94zm-11 1L8.5 8.5l.94-2.06 2.06-.94-2.06-.94L8.5 2.5l-.94 2.06-2.06.94zm10 10l.94 2.06.94-2.06 2.06-.94-2.06-.94-.94-2.06-.94 2.06-2.06.94z\"/><path d=\"M17.41 7.96l-1.37-1.37c-.4-.4-.92-.59-1.43-.59-.52 0-1.04.2-1.43.59L10.3 9.45l-7.72 7.72c-.78.78-.78 2.05 0 2.83L4 21.41c.39.39.9.59 1.41.59.51 0 1.02-.2 1.41-.59l7.78-7.78 2.81-2.81c.8-.78.8-2.07 0-2.86zM5.41 20L4 18.59l7.72-7.72 1.47 1.35L5.41 20z\"/>\n",
              "  </svg>\n",
              "      </button>\n",
              "      \n",
              "  <style>\n",
              "    .colab-df-container {\n",
              "      display:flex;\n",
              "      flex-wrap:wrap;\n",
              "      gap: 12px;\n",
              "    }\n",
              "\n",
              "    .colab-df-convert {\n",
              "      background-color: #E8F0FE;\n",
              "      border: none;\n",
              "      border-radius: 50%;\n",
              "      cursor: pointer;\n",
              "      display: none;\n",
              "      fill: #1967D2;\n",
              "      height: 32px;\n",
              "      padding: 0 0 0 0;\n",
              "      width: 32px;\n",
              "    }\n",
              "\n",
              "    .colab-df-convert:hover {\n",
              "      background-color: #E2EBFA;\n",
              "      box-shadow: 0px 1px 2px rgba(60, 64, 67, 0.3), 0px 1px 3px 1px rgba(60, 64, 67, 0.15);\n",
              "      fill: #174EA6;\n",
              "    }\n",
              "\n",
              "    [theme=dark] .colab-df-convert {\n",
              "      background-color: #3B4455;\n",
              "      fill: #D2E3FC;\n",
              "    }\n",
              "\n",
              "    [theme=dark] .colab-df-convert:hover {\n",
              "      background-color: #434B5C;\n",
              "      box-shadow: 0px 1px 3px 1px rgba(0, 0, 0, 0.15);\n",
              "      filter: drop-shadow(0px 1px 2px rgba(0, 0, 0, 0.3));\n",
              "      fill: #FFFFFF;\n",
              "    }\n",
              "  </style>\n",
              "\n",
              "      <script>\n",
              "        const buttonEl =\n",
              "          document.querySelector('#df-5cb552d4-f932-45d2-86eb-2655222cea16 button.colab-df-convert');\n",
              "        buttonEl.style.display =\n",
              "          google.colab.kernel.accessAllowed ? 'block' : 'none';\n",
              "\n",
              "        async function convertToInteractive(key) {\n",
              "          const element = document.querySelector('#df-5cb552d4-f932-45d2-86eb-2655222cea16');\n",
              "          const dataTable =\n",
              "            await google.colab.kernel.invokeFunction('convertToInteractive',\n",
              "                                                     [key], {});\n",
              "          if (!dataTable) return;\n",
              "\n",
              "          const docLinkHtml = 'Like what you see? Visit the ' +\n",
              "            '<a target=\"_blank\" href=https://colab.research.google.com/notebooks/data_table.ipynb>data table notebook</a>'\n",
              "            + ' to learn more about interactive tables.';\n",
              "          element.innerHTML = '';\n",
              "          dataTable['output_type'] = 'display_data';\n",
              "          await google.colab.output.renderOutput(dataTable, element);\n",
              "          const docLink = document.createElement('div');\n",
              "          docLink.innerHTML = docLinkHtml;\n",
              "          element.appendChild(docLink);\n",
              "        }\n",
              "      </script>\n",
              "    </div>\n",
              "  </div>\n",
              "  "
            ],
            "text/plain": [
              "                  Outlet_Size\n",
              "Item_Outlet_Sales            \n",
              "33.2900                     0\n",
              "33.9558                 Small\n",
              "34.6216                 Small\n",
              "35.2874                     0\n",
              "36.6190                 Small\n",
              "...                       ...\n",
              "10306.5840             Medium\n",
              "10993.6896             Medium\n",
              "11445.1020             Medium\n",
              "12117.5600             Medium\n",
              "13086.9648             Medium\n",
              "\n",
              "[3493 rows x 1 columns]"
            ]
          },
          "metadata": {},
          "execution_count": 16
        }
      ]
    },
    {
      "cell_type": "code",
      "source": [
        "df_IOS_ordered = df.sort_values(by='Item_Outlet_Sales', ascending=True)  #sort the data frame by item outlet sales (low to high)\n",
        "\n",
        "save = df_IOS_ordered.Outlet_Size.fillna(method='bfill') #with oulet size now sorted by item outlet sales, \n",
        "#use back fill to fill in missing data (preserving relationship we found earlier)\n",
        "\n",
        "save #check it worked\n",
        "df['Outlet_Size'] = save #replace old outlet size column with the new one we just filled in"
      ],
      "metadata": {
        "id": "E1aVvFKxI9CK"
      },
      "execution_count": null,
      "outputs": []
    },
    {
      "cell_type": "code",
      "source": [
        "#check to see the order is not changed\n",
        "df['Outlet_Size'] #order is still preserved!"
      ],
      "metadata": {
        "id": "eOT42hSG-vCt"
      },
      "execution_count": null,
      "outputs": []
    },
    {
      "cell_type": "code",
      "source": [
        "#check that it worked \n",
        "if df['Outlet_Size'].isna().sum() == 0: #if the number of missing outlet size values equals 0\n",
        "  print('Missing Data Fixed!') #print\n",
        "else: #if not\n",
        "  print(f'This is not good') #print"
      ],
      "metadata": {
        "id": "ASMWvAYdiiWV"
      },
      "execution_count": null,
      "outputs": []
    },
    {
      "cell_type": "markdown",
      "source": [
        "**6) Confirm that there are no missing values after addressing them.**"
      ],
      "metadata": {
        "id": "qReBFqZZISmC"
      }
    },
    {
      "cell_type": "code",
      "source": [
        "#done above\n",
        "#but we can also check with\n",
        "df.info() #prints out non-null count (it now is the same value, for all columns, as the number of rows)"
      ],
      "metadata": {
        "id": "QJ720K8b-Vu6"
      },
      "execution_count": null,
      "outputs": []
    },
    {
      "cell_type": "markdown",
      "source": [
        "**7) Find and fix any inconsistent categories of data (example: fix cat, Cat, and cats so that they are consistent)**"
      ],
      "metadata": {
        "id": "ONSFG7abIXAy"
      }
    },
    {
      "cell_type": "code",
      "source": [
        "df.Item_Identifier.value_counts() #seems fine"
      ],
      "metadata": {
        "id": "6JvfkP_jlJjT"
      },
      "execution_count": null,
      "outputs": []
    },
    {
      "cell_type": "code",
      "source": [
        "df.Item_Fat_Content.value_counts() #inconsistant"
      ],
      "metadata": {
        "id": "igMWJAtBizUk"
      },
      "execution_count": null,
      "outputs": []
    },
    {
      "cell_type": "code",
      "source": [
        "df.Item_Type.value_counts()#seems fine"
      ],
      "metadata": {
        "id": "NpftEEfplQe6"
      },
      "execution_count": null,
      "outputs": []
    },
    {
      "cell_type": "code",
      "source": [
        "df.Outlet_Identifier.value_counts()#seems fine"
      ],
      "metadata": {
        "id": "gXClBNN16xTL"
      },
      "execution_count": null,
      "outputs": []
    },
    {
      "cell_type": "code",
      "source": [
        "df.Outlet_Location_Type.value_counts()#seems fine"
      ],
      "metadata": {
        "id": "kWL7F_9X636g"
      },
      "execution_count": null,
      "outputs": []
    },
    {
      "cell_type": "code",
      "source": [
        "df.Outlet_Type.value_counts()#seems fine"
      ],
      "metadata": {
        "id": "AnQo3-Wt7vi3"
      },
      "execution_count": null,
      "outputs": []
    },
    {
      "cell_type": "code",
      "source": [
        "#use the replace to fix this \n",
        "df.Item_Fat_Content = df.Item_Fat_Content.replace('LF', 'Low Fat') #replace any instance of LF with Low Fat\n",
        "df.Item_Fat_Content = df.Item_Fat_Content.replace('reg', 'Regular') #replace any instance of reg with Regular\n",
        "df.Item_Fat_Content = df.Item_Fat_Content.replace('low fat', 'Low Fat') #replace any instance of low fat with Low Fat\n",
        "\n",
        "df.Item_Fat_Content.value_counts() #display the groups within Item Fat Content (should be 2 now )"
      ],
      "metadata": {
        "id": "R3Pl9E1G72pX"
      },
      "execution_count": null,
      "outputs": []
    },
    {
      "cell_type": "markdown",
      "source": [
        "**8) For any numerical columns, obtain the summary statistics of each (min, max, mean)**"
      ],
      "metadata": {
        "id": "MYdjlYSqIi8t"
      }
    },
    {
      "cell_type": "code",
      "source": [
        "df.describe() #method prints out summary statistics for numerical columns "
      ],
      "metadata": {
        "id": "UcHxCElY-e1b",
        "colab": {
          "base_uri": "https://localhost:8080/",
          "height": 300
        },
        "outputId": "4624abff-f071-48fa-876c-55ea7e2e1578"
      },
      "execution_count": 17,
      "outputs": [
        {
          "output_type": "execute_result",
          "data": {
            "text/html": [
              "\n",
              "  <div id=\"df-b0240e3c-c8f2-4cbc-b780-1312df3d4227\">\n",
              "    <div class=\"colab-df-container\">\n",
              "      <div>\n",
              "<style scoped>\n",
              "    .dataframe tbody tr th:only-of-type {\n",
              "        vertical-align: middle;\n",
              "    }\n",
              "\n",
              "    .dataframe tbody tr th {\n",
              "        vertical-align: top;\n",
              "    }\n",
              "\n",
              "    .dataframe thead th {\n",
              "        text-align: right;\n",
              "    }\n",
              "</style>\n",
              "<table border=\"1\" class=\"dataframe\">\n",
              "  <thead>\n",
              "    <tr style=\"text-align: right;\">\n",
              "      <th></th>\n",
              "      <th>Item_Weight</th>\n",
              "      <th>Item_Visibility</th>\n",
              "      <th>Item_MRP</th>\n",
              "      <th>Outlet_Establishment_Year</th>\n",
              "      <th>Item_Outlet_Sales</th>\n",
              "    </tr>\n",
              "  </thead>\n",
              "  <tbody>\n",
              "    <tr>\n",
              "      <th>count</th>\n",
              "      <td>7060.000000</td>\n",
              "      <td>8523.000000</td>\n",
              "      <td>8523.000000</td>\n",
              "      <td>8523.000000</td>\n",
              "      <td>8523.000000</td>\n",
              "    </tr>\n",
              "    <tr>\n",
              "      <th>mean</th>\n",
              "      <td>12.857645</td>\n",
              "      <td>0.066132</td>\n",
              "      <td>140.992782</td>\n",
              "      <td>1997.831867</td>\n",
              "      <td>2181.288914</td>\n",
              "    </tr>\n",
              "    <tr>\n",
              "      <th>std</th>\n",
              "      <td>4.643456</td>\n",
              "      <td>0.051598</td>\n",
              "      <td>62.275067</td>\n",
              "      <td>8.371760</td>\n",
              "      <td>1706.499616</td>\n",
              "    </tr>\n",
              "    <tr>\n",
              "      <th>min</th>\n",
              "      <td>4.555000</td>\n",
              "      <td>0.000000</td>\n",
              "      <td>31.290000</td>\n",
              "      <td>1985.000000</td>\n",
              "      <td>33.290000</td>\n",
              "    </tr>\n",
              "    <tr>\n",
              "      <th>25%</th>\n",
              "      <td>8.773750</td>\n",
              "      <td>0.026989</td>\n",
              "      <td>93.826500</td>\n",
              "      <td>1987.000000</td>\n",
              "      <td>834.247400</td>\n",
              "    </tr>\n",
              "    <tr>\n",
              "      <th>50%</th>\n",
              "      <td>12.600000</td>\n",
              "      <td>0.053931</td>\n",
              "      <td>143.012800</td>\n",
              "      <td>1999.000000</td>\n",
              "      <td>1794.331000</td>\n",
              "    </tr>\n",
              "    <tr>\n",
              "      <th>75%</th>\n",
              "      <td>16.850000</td>\n",
              "      <td>0.094585</td>\n",
              "      <td>185.643700</td>\n",
              "      <td>2004.000000</td>\n",
              "      <td>3101.296400</td>\n",
              "    </tr>\n",
              "    <tr>\n",
              "      <th>max</th>\n",
              "      <td>21.350000</td>\n",
              "      <td>0.328391</td>\n",
              "      <td>266.888400</td>\n",
              "      <td>2009.000000</td>\n",
              "      <td>13086.964800</td>\n",
              "    </tr>\n",
              "  </tbody>\n",
              "</table>\n",
              "</div>\n",
              "      <button class=\"colab-df-convert\" onclick=\"convertToInteractive('df-b0240e3c-c8f2-4cbc-b780-1312df3d4227')\"\n",
              "              title=\"Convert this dataframe to an interactive table.\"\n",
              "              style=\"display:none;\">\n",
              "        \n",
              "  <svg xmlns=\"http://www.w3.org/2000/svg\" height=\"24px\"viewBox=\"0 0 24 24\"\n",
              "       width=\"24px\">\n",
              "    <path d=\"M0 0h24v24H0V0z\" fill=\"none\"/>\n",
              "    <path d=\"M18.56 5.44l.94 2.06.94-2.06 2.06-.94-2.06-.94-.94-2.06-.94 2.06-2.06.94zm-11 1L8.5 8.5l.94-2.06 2.06-.94-2.06-.94L8.5 2.5l-.94 2.06-2.06.94zm10 10l.94 2.06.94-2.06 2.06-.94-2.06-.94-.94-2.06-.94 2.06-2.06.94z\"/><path d=\"M17.41 7.96l-1.37-1.37c-.4-.4-.92-.59-1.43-.59-.52 0-1.04.2-1.43.59L10.3 9.45l-7.72 7.72c-.78.78-.78 2.05 0 2.83L4 21.41c.39.39.9.59 1.41.59.51 0 1.02-.2 1.41-.59l7.78-7.78 2.81-2.81c.8-.78.8-2.07 0-2.86zM5.41 20L4 18.59l7.72-7.72 1.47 1.35L5.41 20z\"/>\n",
              "  </svg>\n",
              "      </button>\n",
              "      \n",
              "  <style>\n",
              "    .colab-df-container {\n",
              "      display:flex;\n",
              "      flex-wrap:wrap;\n",
              "      gap: 12px;\n",
              "    }\n",
              "\n",
              "    .colab-df-convert {\n",
              "      background-color: #E8F0FE;\n",
              "      border: none;\n",
              "      border-radius: 50%;\n",
              "      cursor: pointer;\n",
              "      display: none;\n",
              "      fill: #1967D2;\n",
              "      height: 32px;\n",
              "      padding: 0 0 0 0;\n",
              "      width: 32px;\n",
              "    }\n",
              "\n",
              "    .colab-df-convert:hover {\n",
              "      background-color: #E2EBFA;\n",
              "      box-shadow: 0px 1px 2px rgba(60, 64, 67, 0.3), 0px 1px 3px 1px rgba(60, 64, 67, 0.15);\n",
              "      fill: #174EA6;\n",
              "    }\n",
              "\n",
              "    [theme=dark] .colab-df-convert {\n",
              "      background-color: #3B4455;\n",
              "      fill: #D2E3FC;\n",
              "    }\n",
              "\n",
              "    [theme=dark] .colab-df-convert:hover {\n",
              "      background-color: #434B5C;\n",
              "      box-shadow: 0px 1px 3px 1px rgba(0, 0, 0, 0.15);\n",
              "      filter: drop-shadow(0px 1px 2px rgba(0, 0, 0, 0.3));\n",
              "      fill: #FFFFFF;\n",
              "    }\n",
              "  </style>\n",
              "\n",
              "      <script>\n",
              "        const buttonEl =\n",
              "          document.querySelector('#df-b0240e3c-c8f2-4cbc-b780-1312df3d4227 button.colab-df-convert');\n",
              "        buttonEl.style.display =\n",
              "          google.colab.kernel.accessAllowed ? 'block' : 'none';\n",
              "\n",
              "        async function convertToInteractive(key) {\n",
              "          const element = document.querySelector('#df-b0240e3c-c8f2-4cbc-b780-1312df3d4227');\n",
              "          const dataTable =\n",
              "            await google.colab.kernel.invokeFunction('convertToInteractive',\n",
              "                                                     [key], {});\n",
              "          if (!dataTable) return;\n",
              "\n",
              "          const docLinkHtml = 'Like what you see? Visit the ' +\n",
              "            '<a target=\"_blank\" href=https://colab.research.google.com/notebooks/data_table.ipynb>data table notebook</a>'\n",
              "            + ' to learn more about interactive tables.';\n",
              "          element.innerHTML = '';\n",
              "          dataTable['output_type'] = 'display_data';\n",
              "          await google.colab.output.renderOutput(dataTable, element);\n",
              "          const docLink = document.createElement('div');\n",
              "          docLink.innerHTML = docLinkHtml;\n",
              "          element.appendChild(docLink);\n",
              "        }\n",
              "      </script>\n",
              "    </div>\n",
              "  </div>\n",
              "  "
            ],
            "text/plain": [
              "       Item_Weight  Item_Visibility     Item_MRP  Outlet_Establishment_Year  \\\n",
              "count  7060.000000      8523.000000  8523.000000                8523.000000   \n",
              "mean     12.857645         0.066132   140.992782                1997.831867   \n",
              "std       4.643456         0.051598    62.275067                   8.371760   \n",
              "min       4.555000         0.000000    31.290000                1985.000000   \n",
              "25%       8.773750         0.026989    93.826500                1987.000000   \n",
              "50%      12.600000         0.053931   143.012800                1999.000000   \n",
              "75%      16.850000         0.094585   185.643700                2004.000000   \n",
              "max      21.350000         0.328391   266.888400                2009.000000   \n",
              "\n",
              "       Item_Outlet_Sales  \n",
              "count        8523.000000  \n",
              "mean         2181.288914  \n",
              "std          1706.499616  \n",
              "min            33.290000  \n",
              "25%           834.247400  \n",
              "50%          1794.331000  \n",
              "75%          3101.296400  \n",
              "max         13086.964800  "
            ]
          },
          "metadata": {},
          "execution_count": 17
        }
      ]
    }
  ]
}